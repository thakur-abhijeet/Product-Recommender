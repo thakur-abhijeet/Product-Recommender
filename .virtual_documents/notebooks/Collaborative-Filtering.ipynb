# Import Required Libraries

import numpy as np
import pandas as pd
from sklearn.feature_extraction.text import TfidfVectorizer
from sklearn.cluster import KMeans
from sklearn.metrics.pairwise import cosine_similarity  # Added for recommendations
import matplotlib.pyplot as plt


# Load and Preprocess Data
# Load main product data
df = pd.read_csv('/home/masubhaat/Product-Recommender/data/amazon.csv').dropna()


df.head()


# Create TF-IDF vectorizer with English stop words

tfidf = TfidfVectorizer(stop_words='english')
tfidf_matrix = tfidf.fit_transform(df)
print(f"TF-IDF Matrix Shape: {tfidf_matrix.shape}")


# Determine Optimal Clusters using Elbow Method
# Calculate inertia values for different cluster numbers

inertias = []
K = range(5, 15)
for k in K:
    kmeans = KMeans(n_clusters=k, random_state=42)
    kmeans.fit(tfidf_matrix)
    inertias.append(kmeans.inertia_)
    
# Plot elbow curve
plt.figure(figsize=(10,6))
plt.plot(K, inertias, 'bx-')
plt.xlabel('Number of Clusters')
plt.ylabel('Inertia')
plt.title('Elbow Method for Optimal K')
plt.show()



from sklearn.cluster import KMeans

# K-Means Clustering with Optimal K
optimal_k = 10  
# Determined from elbow plot analysis"
kmeans = KMeans(n_clusters=optimal_k, random_state=42)
kmeans.fit(tfidf_matrix)
clusters = kmeans.labels_

# # Ensure lengths match
df = df.copy()  # Avoid modifying original DataFrame
df = df.iloc[:len(clusters)]  # Ensure same length as clusters

# Add cluster labels
df['cluster'] = clusters


# Cluster Analysis Function

def print_cluster_terms(cluster_id, n_terms=10):
    """Print top terms characterizing a cluster"""
    print(f"\nCluster {cluster_id} Top Terms:")
    centroid = kmeans.cluster_centers_[cluster_id]
    terms = tfidf.get_feature_names_out()
    sorted_terms = sorted(zip(centroid, terms), reverse=True)[:n_terms]
    for score, term in sorted_terms:
        print(f"{term}: {score:.3f}")
# Print terms for all clusters
for i in range(optimal_k):
    print_cluster_terms(i)# Print terms for all clusters


# Recommendation Function
def get_recommendations(about_product, n_recommend=5):
    """Get product recommendations based on cluster similarity"""
    # Transform input to TF-IDF
    input_tfidf = tfidf.transform([about_product])
    
    # Find cluster
    cluster = kmeans.predict(input_tfidf)[0]
    
    # Get products from same cluster
    cluster_products = df[df['cluster'] == cluster]
    
    # Calculate cosine similarity within cluster
    cluster_tfidf = tfidf.transform(cluster_products['about_product'])
    similarities = cosine_similarity(input_tfidf, cluster_tfidf).flatten()
    
    # Get top N recommendations
    top_indices = similarities.argsort()[-n_recommend:][::-1]
    return cluster_products.iloc[top_indices]




# API Simulation Function
def api_recommend(df):
    """Simulate API call for product recommendations"""
    print(f"\nInput Product: {df}")
    recommendations = get_recommendations(df)
    
    print("\nTop Recommendations:")
    return recommendations[['product_name', 'category', 'rating']]



# Test Recommendations

# Example 1: Cutting Tool
print(api_recommend("HDMI"))

# Example 2: Lighting Product
print(api_recommend("60W charger"))






