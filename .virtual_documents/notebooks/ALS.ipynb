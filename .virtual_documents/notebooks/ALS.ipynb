import warnings
warnings.simplefilter(action='ignore', category=FutureWarning)

import sys
import pandas as pd
import numpy as np
import pyspark
from pyspark.ml.recommendation import ALS
import pyspark.sql.functions as F
from pyspark.sql import SparkSession
from pyspark.sql.types import StructType, StructField
from pyspark.sql.types import StringType, FloatType, IntegerType, LongType

from recommenders.utils.timer import Timer
from recommenders.datasets import movielens
from recommenders.utils.notebook_utils import is_jupyter
from recommenders.datasets.spark_splitters import spark_random_split
from recommenders.evaluation.spark_evaluation import SparkRatingEvaluation, SparkRankingEvaluation
from recommenders.utils.spark_utils import start_or_get_spark
from recommenders.utils.notebook_utils import store_metadata

print(f"System version: {sys.version}")
print("Spark version: {}".format(pyspark.__version__))


from pyspark.sql import SparkSession

spark = SparkSession.builder.appName("ALS PySpark").getOrCreate()




dframe = pd.read_csv("/home/masubhaat/Product-Recommender/data/consumerdata.csv")


dframe.info()


df = spark.createDataFrame(dframe)
train, test = spark_random_split(df, ratio=0.75, seed=123)


spark = start_or_get_spark("ALS PySpark", memory="16g")
spark.conf.set("spark.sql.analyzer.failAmbiguousSelfJoin", "false")


pyspark.stop()



